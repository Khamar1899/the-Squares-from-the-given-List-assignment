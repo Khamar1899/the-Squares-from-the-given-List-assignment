{
 "cells": [
  {
   "cell_type": "code",
   "execution_count": 1,
   "id": "53d4a064",
   "metadata": {},
   "outputs": [
    {
     "name": "stdout",
     "output_type": "stream",
     "text": [
      "Square the elements of the list: [16, 25, 4, 81]\n"
     ]
    }
   ],
   "source": [
    "l=[4,5,2,9]\n",
    "def fun(x):\n",
    "    return x**2\n",
    "output=list(map(fun,l))\n",
    "print(\"Square the elements of the list:\",output)"
   ]
  },
  {
   "cell_type": "code",
   "execution_count": null,
   "id": "5579cc79",
   "metadata": {},
   "outputs": [],
   "source": []
  }
 ],
 "metadata": {
  "kernelspec": {
   "display_name": "Python 3 (ipykernel)",
   "language": "python",
   "name": "python3"
  },
  "language_info": {
   "codemirror_mode": {
    "name": "ipython",
    "version": 3
   },
   "file_extension": ".py",
   "mimetype": "text/x-python",
   "name": "python",
   "nbconvert_exporter": "python",
   "pygments_lexer": "ipython3",
   "version": "3.9.6"
  }
 },
 "nbformat": 4,
 "nbformat_minor": 5
}
